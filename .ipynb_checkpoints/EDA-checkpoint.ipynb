{
 "cells": [
  {
   "cell_type": "markdown",
   "id": "c6ea4ae3-4ffd-44df-9ef3-cbb5ddbe557b",
   "metadata": {},
   "source": [
    "# Exploratory Data Analysis"
   ]
  },
  {
   "cell_type": "code",
   "execution_count": 1,
   "id": "a19553eb-1d0a-4a60-8b0c-a99e15a182bc",
   "metadata": {},
   "outputs": [],
   "source": [
    "%load_ext autoreload\n",
    "%autoreload 2\n",
    "\n",
    "import os, sys\n",
    "import pandas as pd\n",
    "import matplotlib.pyplot as plt\n",
    "import seaborn as sns\n",
    "# sys.path.append(os.path.abspath('Code Test'))\n",
    "# from data_io import load_all_tables\n",
    "# from network import build_flow_pairs, participant_metrics, top_participants\n",
    "# from cleaning import standardise_counterparty_names, aggregate_flows\n",
    "# from viz import bar_top_series, try_plot_network\n",
    "\n",
    "data_path = 'data/Test for Data Science role.xlsx'"
   ]
  },
  {
   "cell_type": "markdown",
   "id": "6bd69971-506d-4cca-a64f-fe8a1d3957ae",
   "metadata": {},
   "source": [
    "## 1. Data Loading & Light Processing"
   ]
  },
  {
   "cell_type": "code",
   "execution_count": 2,
   "id": "f63c1857-f962-480a-8716-b4be72bbab4e",
   "metadata": {},
   "outputs": [],
   "source": [
    "# Returns a dict of dataframes with keys: client, accounts, deposits, withdrawals, transfers\n",
    "sheets = ['Client', 'Accounts', 'Deposits', 'Withdrawals', 'Transfers']\n",
    "dfs = {s.lower(): pd.read_excel(data_path, sheet_name=s, header=1) for s in sheets}\n",
    "\n",
    "# Normalise column names\n",
    "for k, df in dfs.items():\n",
    "    # Drop columns that are entirely NaN\n",
    "    df = df.dropna(axis=1, how='all')\n",
    "    # df.columns = (df.columns.str.strip().str.lower())\n",
    "    df.columns = (df.columns\n",
    "                  .str.replace('(?<=[a-z])(?=[A-Z])', '_', regex=True)\n",
    "                  .str.lower()\n",
    "                 )\n",
    "    dfs[k] = df"
   ]
  },
  {
   "cell_type": "code",
   "execution_count": 3,
   "id": "fb8cc3fc-08e1-483e-9b83-ede134870022",
   "metadata": {},
   "outputs": [
    {
     "name": "stdout",
     "output_type": "stream",
     "text": [
      "client (44, 12) ['hub_spot_deal_id', 'group_name', 'group_country_incorp', 'company_name', 'company_country_incorp', 'deal_stage', 'state', 'risk_rating', 'pod', 'vertical', 'segment', 'industry']\n",
      "accounts (55, 3) ['account_id', 'status', 'hub_spot_deal_id']\n",
      "deposits (2268, 10) ['deposit_id', 'account_id', 'london_value_date', 'currency', 'amount', 'normalised_amount', 'deposit_origin', 'deposit_remitter_name', 'deposit_fee_normalised', 'unnamed: 10']\n",
      "withdrawals (5868, 9) ['withdrawal_id', 'account_id', 'london_value_date', 'currency', 'amount', 'normalised_amount', 'beneficiary_bank_country', 'beneficiary_name', 'withdrawal_fee_normalised']\n",
      "transfers (2452, 10) ['transfer_id', 'london_created_date', 'sender_account_id', 'recipient_account_id', 'currency', 'amount', 'is_inter_entity_transfer', 'normalised_amount', 'reciever_fee_normalised', 'sender_fee_normalised']\n"
     ]
    }
   ],
   "source": [
    "# List all columns by table\n",
    "\n",
    "for k,v in dfs.items():\n",
    "    print(k, v.shape, list(v.columns))"
   ]
  },
  {
   "cell_type": "code",
   "execution_count": 4,
   "id": "b6540de5-91bc-478c-b381-27591fd25c67",
   "metadata": {},
   "outputs": [],
   "source": [
    "# assign dataframe name to each table\n",
    "clients = dfs['client']\n",
    "accounts = dfs['accounts']\n",
    "deposits = dfs['deposits']\n",
    "withdrawals = dfs['withdrawals']\n",
    "transfers = dfs['transfers']"
   ]
  },
  {
   "cell_type": "markdown",
   "id": "c181e7c9-afc4-4b0f-a482-8b7e8d7f3058",
   "metadata": {},
   "source": [
    "## 2. Basic Info & Missing Values"
   ]
  },
  {
   "cell_type": "code",
   "execution_count": 5,
   "id": "872282b8-c9e4-42a8-b515-b856244803b6",
   "metadata": {},
   "outputs": [
    {
     "name": "stdout",
     "output_type": "stream",
     "text": [
      "\n",
      "client: (44, 12) rows × 12 cols\n"
     ]
    },
    {
     "data": {
      "text/html": [
       "<div>\n",
       "<style scoped>\n",
       "    .dataframe tbody tr th:only-of-type {\n",
       "        vertical-align: middle;\n",
       "    }\n",
       "\n",
       "    .dataframe tbody tr th {\n",
       "        vertical-align: top;\n",
       "    }\n",
       "\n",
       "    .dataframe thead th {\n",
       "        text-align: right;\n",
       "    }\n",
       "</style>\n",
       "<table border=\"1\" class=\"dataframe\">\n",
       "  <thead>\n",
       "    <tr style=\"text-align: right;\">\n",
       "      <th></th>\n",
       "      <th>hub_spot_deal_id</th>\n",
       "      <th>group_name</th>\n",
       "      <th>group_country_incorp</th>\n",
       "      <th>company_name</th>\n",
       "      <th>company_country_incorp</th>\n",
       "      <th>deal_stage</th>\n",
       "      <th>state</th>\n",
       "      <th>risk_rating</th>\n",
       "      <th>pod</th>\n",
       "      <th>vertical</th>\n",
       "      <th>segment</th>\n",
       "      <th>industry</th>\n",
       "    </tr>\n",
       "  </thead>\n",
       "  <tbody>\n",
       "    <tr>\n",
       "      <th>0</th>\n",
       "      <td>234848914679</td>\n",
       "      <td>Group 1</td>\n",
       "      <td>Nigeria</td>\n",
       "      <td>Company 1</td>\n",
       "      <td>Nigeria</td>\n",
       "      <td>Contract Signed</td>\n",
       "      <td>Won</td>\n",
       "      <td>High</td>\n",
       "      <td>MSB/PSP</td>\n",
       "      <td>MSB</td>\n",
       "      <td>MSB &amp; PSPs - Africa</td>\n",
       "      <td>MSB - Money Service Business</td>\n",
       "    </tr>\n",
       "    <tr>\n",
       "      <th>1</th>\n",
       "      <td>234848914681</td>\n",
       "      <td>Group 2</td>\n",
       "      <td>United Kingdom</td>\n",
       "      <td>Company 2</td>\n",
       "      <td>New Zealand</td>\n",
       "      <td>Contract Signed</td>\n",
       "      <td>Won</td>\n",
       "      <td>High</td>\n",
       "      <td>Crypto/CFD/Forex</td>\n",
       "      <td>FI</td>\n",
       "      <td>Onshore CFD</td>\n",
       "      <td>FI - Activities of holding company</td>\n",
       "    </tr>\n",
       "    <tr>\n",
       "      <th>2</th>\n",
       "      <td>234850008297</td>\n",
       "      <td>Group 3</td>\n",
       "      <td>Canada</td>\n",
       "      <td>Company 3</td>\n",
       "      <td>Canada</td>\n",
       "      <td>M3 Contract Signed</td>\n",
       "      <td>Won</td>\n",
       "      <td>High</td>\n",
       "      <td>MSB/PSP</td>\n",
       "      <td>MSB</td>\n",
       "      <td>MSB &amp; PSPs - Africa</td>\n",
       "      <td>MSB - Money Service Business</td>\n",
       "    </tr>\n",
       "  </tbody>\n",
       "</table>\n",
       "</div>"
      ],
      "text/plain": [
       "   hub_spot_deal_id group_name group_country_incorp company_name  \\\n",
       "0      234848914679    Group 1              Nigeria    Company 1   \n",
       "1      234848914681    Group 2       United Kingdom    Company 2   \n",
       "2      234850008297    Group 3               Canada    Company 3   \n",
       "\n",
       "  company_country_incorp          deal_stage state risk_rating  \\\n",
       "0                Nigeria     Contract Signed   Won        High   \n",
       "1            New Zealand     Contract Signed   Won        High   \n",
       "2                 Canada  M3 Contract Signed   Won        High   \n",
       "\n",
       "                pod vertical              segment  \\\n",
       "0           MSB/PSP      MSB  MSB & PSPs - Africa   \n",
       "1  Crypto/CFD/Forex       FI          Onshore CFD   \n",
       "2           MSB/PSP      MSB  MSB & PSPs - Africa   \n",
       "\n",
       "                             industry  \n",
       "0        MSB - Money Service Business  \n",
       "1  FI - Activities of holding company  \n",
       "2        MSB - Money Service Business  "
      ]
     },
     "metadata": {},
     "output_type": "display_data"
    },
    {
     "name": "stdout",
     "output_type": "stream",
     "text": [
      "\n",
      "accounts: (55, 3) rows × 3 cols\n"
     ]
    },
    {
     "data": {
      "text/html": [
       "<div>\n",
       "<style scoped>\n",
       "    .dataframe tbody tr th:only-of-type {\n",
       "        vertical-align: middle;\n",
       "    }\n",
       "\n",
       "    .dataframe tbody tr th {\n",
       "        vertical-align: top;\n",
       "    }\n",
       "\n",
       "    .dataframe thead th {\n",
       "        text-align: right;\n",
       "    }\n",
       "</style>\n",
       "<table border=\"1\" class=\"dataframe\">\n",
       "  <thead>\n",
       "    <tr style=\"text-align: right;\">\n",
       "      <th></th>\n",
       "      <th>account_id</th>\n",
       "      <th>status</th>\n",
       "      <th>hub_spot_deal_id</th>\n",
       "    </tr>\n",
       "  </thead>\n",
       "  <tbody>\n",
       "    <tr>\n",
       "      <th>0</th>\n",
       "      <td>14400</td>\n",
       "      <td>E</td>\n",
       "      <td>234936083702</td>\n",
       "    </tr>\n",
       "    <tr>\n",
       "      <th>1</th>\n",
       "      <td>14439</td>\n",
       "      <td>E</td>\n",
       "      <td>262958331091</td>\n",
       "    </tr>\n",
       "    <tr>\n",
       "      <th>2</th>\n",
       "      <td>14440</td>\n",
       "      <td>E</td>\n",
       "      <td>262995992770</td>\n",
       "    </tr>\n",
       "  </tbody>\n",
       "</table>\n",
       "</div>"
      ],
      "text/plain": [
       "   account_id status  hub_spot_deal_id\n",
       "0       14400      E      234936083702\n",
       "1       14439      E      262958331091\n",
       "2       14440      E      262995992770"
      ]
     },
     "metadata": {},
     "output_type": "display_data"
    },
    {
     "name": "stdout",
     "output_type": "stream",
     "text": [
      "\n",
      "deposits: (2268, 10) rows × 10 cols\n"
     ]
    },
    {
     "data": {
      "text/html": [
       "<div>\n",
       "<style scoped>\n",
       "    .dataframe tbody tr th:only-of-type {\n",
       "        vertical-align: middle;\n",
       "    }\n",
       "\n",
       "    .dataframe tbody tr th {\n",
       "        vertical-align: top;\n",
       "    }\n",
       "\n",
       "    .dataframe thead th {\n",
       "        text-align: right;\n",
       "    }\n",
       "</style>\n",
       "<table border=\"1\" class=\"dataframe\">\n",
       "  <thead>\n",
       "    <tr style=\"text-align: right;\">\n",
       "      <th></th>\n",
       "      <th>deposit_id</th>\n",
       "      <th>account_id</th>\n",
       "      <th>london_value_date</th>\n",
       "      <th>currency</th>\n",
       "      <th>amount</th>\n",
       "      <th>normalised_amount</th>\n",
       "      <th>deposit_origin</th>\n",
       "      <th>deposit_remitter_name</th>\n",
       "      <th>deposit_fee_normalised</th>\n",
       "      <th>unnamed: 10</th>\n",
       "    </tr>\n",
       "  </thead>\n",
       "  <tbody>\n",
       "    <tr>\n",
       "      <th>0</th>\n",
       "      <td>291106</td>\n",
       "      <td>16472</td>\n",
       "      <td>2025-02-03 14:48:25.627</td>\n",
       "      <td>USD</td>\n",
       "      <td>440000.0</td>\n",
       "      <td>356259.574</td>\n",
       "      <td>US</td>\n",
       "      <td>Remitter 18</td>\n",
       "      <td>204.041789</td>\n",
       "      <td>2.349392e+11</td>\n",
       "    </tr>\n",
       "    <tr>\n",
       "      <th>1</th>\n",
       "      <td>281968</td>\n",
       "      <td>16472</td>\n",
       "      <td>2025-01-02 09:51:12.963</td>\n",
       "      <td>GBP</td>\n",
       "      <td>440000.0</td>\n",
       "      <td>440000.000</td>\n",
       "      <td>GB</td>\n",
       "      <td>Remitter 8</td>\n",
       "      <td>262.600000</td>\n",
       "      <td>NaN</td>\n",
       "    </tr>\n",
       "    <tr>\n",
       "      <th>2</th>\n",
       "      <td>286005</td>\n",
       "      <td>16472</td>\n",
       "      <td>2025-01-16 11:30:19.040</td>\n",
       "      <td>GBP</td>\n",
       "      <td>160000.0</td>\n",
       "      <td>160000.000</td>\n",
       "      <td>GB</td>\n",
       "      <td>Remitter 8</td>\n",
       "      <td>51.000000</td>\n",
       "      <td>NaN</td>\n",
       "    </tr>\n",
       "  </tbody>\n",
       "</table>\n",
       "</div>"
      ],
      "text/plain": [
       "   deposit_id  account_id       london_value_date currency    amount  \\\n",
       "0      291106       16472 2025-02-03 14:48:25.627      USD  440000.0   \n",
       "1      281968       16472 2025-01-02 09:51:12.963      GBP  440000.0   \n",
       "2      286005       16472 2025-01-16 11:30:19.040      GBP  160000.0   \n",
       "\n",
       "   normalised_amount deposit_origin deposit_remitter_name  \\\n",
       "0         356259.574             US           Remitter 18   \n",
       "1         440000.000             GB            Remitter 8   \n",
       "2         160000.000             GB            Remitter 8   \n",
       "\n",
       "   deposit_fee_normalised   unnamed: 10  \n",
       "0              204.041789  2.349392e+11  \n",
       "1              262.600000           NaN  \n",
       "2               51.000000           NaN  "
      ]
     },
     "metadata": {},
     "output_type": "display_data"
    },
    {
     "name": "stdout",
     "output_type": "stream",
     "text": [
      "\n",
      "withdrawals: (5868, 9) rows × 9 cols\n"
     ]
    },
    {
     "data": {
      "text/html": [
       "<div>\n",
       "<style scoped>\n",
       "    .dataframe tbody tr th:only-of-type {\n",
       "        vertical-align: middle;\n",
       "    }\n",
       "\n",
       "    .dataframe tbody tr th {\n",
       "        vertical-align: top;\n",
       "    }\n",
       "\n",
       "    .dataframe thead th {\n",
       "        text-align: right;\n",
       "    }\n",
       "</style>\n",
       "<table border=\"1\" class=\"dataframe\">\n",
       "  <thead>\n",
       "    <tr style=\"text-align: right;\">\n",
       "      <th></th>\n",
       "      <th>withdrawal_id</th>\n",
       "      <th>account_id</th>\n",
       "      <th>london_value_date</th>\n",
       "      <th>currency</th>\n",
       "      <th>amount</th>\n",
       "      <th>normalised_amount</th>\n",
       "      <th>beneficiary_bank_country</th>\n",
       "      <th>beneficiary_name</th>\n",
       "      <th>withdrawal_fee_normalised</th>\n",
       "    </tr>\n",
       "  </thead>\n",
       "  <tbody>\n",
       "    <tr>\n",
       "      <th>0</th>\n",
       "      <td>322990</td>\n",
       "      <td>14669</td>\n",
       "      <td>2025-01-20 10:39:55.563</td>\n",
       "      <td>EUR</td>\n",
       "      <td>38350.52769</td>\n",
       "      <td>32472.31098</td>\n",
       "      <td>LT</td>\n",
       "      <td>Beneficiary 3</td>\n",
       "      <td>205.987547</td>\n",
       "    </tr>\n",
       "    <tr>\n",
       "      <th>1</th>\n",
       "      <td>336346</td>\n",
       "      <td>14669</td>\n",
       "      <td>2025-03-12 11:33:08.160</td>\n",
       "      <td>EUR</td>\n",
       "      <td>69586.48576</td>\n",
       "      <td>58590.74496</td>\n",
       "      <td>LT</td>\n",
       "      <td>Beneficiary 3</td>\n",
       "      <td>205.901522</td>\n",
       "    </tr>\n",
       "    <tr>\n",
       "      <th>2</th>\n",
       "      <td>341195</td>\n",
       "      <td>14669</td>\n",
       "      <td>2025-03-31 10:43:18.706</td>\n",
       "      <td>EUR</td>\n",
       "      <td>19826.49636</td>\n",
       "      <td>16588.23448</td>\n",
       "      <td>LT</td>\n",
       "      <td>Beneficiary 3</td>\n",
       "      <td>206.605492</td>\n",
       "    </tr>\n",
       "  </tbody>\n",
       "</table>\n",
       "</div>"
      ],
      "text/plain": [
       "   withdrawal_id  account_id       london_value_date currency       amount  \\\n",
       "0         322990       14669 2025-01-20 10:39:55.563      EUR  38350.52769   \n",
       "1         336346       14669 2025-03-12 11:33:08.160      EUR  69586.48576   \n",
       "2         341195       14669 2025-03-31 10:43:18.706      EUR  19826.49636   \n",
       "\n",
       "   normalised_amount beneficiary_bank_country beneficiary_name  \\\n",
       "0        32472.31098                       LT    Beneficiary 3   \n",
       "1        58590.74496                       LT    Beneficiary 3   \n",
       "2        16588.23448                       LT    Beneficiary 3   \n",
       "\n",
       "   withdrawal_fee_normalised  \n",
       "0                 205.987547  \n",
       "1                 205.901522  \n",
       "2                 206.605492  "
      ]
     },
     "metadata": {},
     "output_type": "display_data"
    },
    {
     "name": "stdout",
     "output_type": "stream",
     "text": [
      "\n",
      "transfers: (2452, 10) rows × 10 cols\n"
     ]
    },
    {
     "data": {
      "text/html": [
       "<div>\n",
       "<style scoped>\n",
       "    .dataframe tbody tr th:only-of-type {\n",
       "        vertical-align: middle;\n",
       "    }\n",
       "\n",
       "    .dataframe tbody tr th {\n",
       "        vertical-align: top;\n",
       "    }\n",
       "\n",
       "    .dataframe thead th {\n",
       "        text-align: right;\n",
       "    }\n",
       "</style>\n",
       "<table border=\"1\" class=\"dataframe\">\n",
       "  <thead>\n",
       "    <tr style=\"text-align: right;\">\n",
       "      <th></th>\n",
       "      <th>transfer_id</th>\n",
       "      <th>london_created_date</th>\n",
       "      <th>sender_account_id</th>\n",
       "      <th>recipient_account_id</th>\n",
       "      <th>currency</th>\n",
       "      <th>amount</th>\n",
       "      <th>is_inter_entity_transfer</th>\n",
       "      <th>normalised_amount</th>\n",
       "      <th>reciever_fee_normalised</th>\n",
       "      <th>sender_fee_normalised</th>\n",
       "    </tr>\n",
       "  </thead>\n",
       "  <tbody>\n",
       "    <tr>\n",
       "      <th>0</th>\n",
       "      <td>104188</td>\n",
       "      <td>2025-08-11 16:10:24.190</td>\n",
       "      <td>16472</td>\n",
       "      <td>14400</td>\n",
       "      <td>USD</td>\n",
       "      <td>48862.13409</td>\n",
       "      <td>1</td>\n",
       "      <td>36454.05927</td>\n",
       "      <td>58.158505</td>\n",
       "      <td>0</td>\n",
       "    </tr>\n",
       "    <tr>\n",
       "      <th>1</th>\n",
       "      <td>103629</td>\n",
       "      <td>2025-08-05 08:14:53.590</td>\n",
       "      <td>16472</td>\n",
       "      <td>14400</td>\n",
       "      <td>USD</td>\n",
       "      <td>45113.67996</td>\n",
       "      <td>1</td>\n",
       "      <td>33942.20306</td>\n",
       "      <td>52.794806</td>\n",
       "      <td>0</td>\n",
       "    </tr>\n",
       "    <tr>\n",
       "      <th>2</th>\n",
       "      <td>103795</td>\n",
       "      <td>2025-08-06 12:26:16.760</td>\n",
       "      <td>16472</td>\n",
       "      <td>16659</td>\n",
       "      <td>GBP</td>\n",
       "      <td>65000.00000</td>\n",
       "      <td>0</td>\n",
       "      <td>65000.00000</td>\n",
       "      <td>0.000000</td>\n",
       "      <td>0</td>\n",
       "    </tr>\n",
       "  </tbody>\n",
       "</table>\n",
       "</div>"
      ],
      "text/plain": [
       "   transfer_id     london_created_date  sender_account_id  \\\n",
       "0       104188 2025-08-11 16:10:24.190              16472   \n",
       "1       103629 2025-08-05 08:14:53.590              16472   \n",
       "2       103795 2025-08-06 12:26:16.760              16472   \n",
       "\n",
       "   recipient_account_id currency       amount  is_inter_entity_transfer  \\\n",
       "0                 14400      USD  48862.13409                         1   \n",
       "1                 14400      USD  45113.67996                         1   \n",
       "2                 16659      GBP  65000.00000                         0   \n",
       "\n",
       "   normalised_amount  reciever_fee_normalised  sender_fee_normalised  \n",
       "0        36454.05927                58.158505                      0  \n",
       "1        33942.20306                52.794806                      0  \n",
       "2        65000.00000                 0.000000                      0  "
      ]
     },
     "metadata": {},
     "output_type": "display_data"
    }
   ],
   "source": [
    "for name, df in dfs.items():\n",
    "    print(f'\\n{name}: {df.shape} rows × {df.shape[1]} cols')\n",
    "    display(df.head(3))"
   ]
  },
  {
   "cell_type": "markdown",
   "id": "740e9bf7-be99-4e30-b2ca-8f5fbd0a14d1",
   "metadata": {},
   "source": [
    "## 3. Clients: Company Metadata"
   ]
  },
  {
   "cell_type": "code",
   "execution_count": 6,
   "id": "da77641e-c182-45ba-b9fa-1b1daf126193",
   "metadata": {},
   "outputs": [
    {
     "data": {
      "text/plain": [
       "<Axes: title={'center': 'Top Verticals'}, ylabel='vertical'>"
      ]
     },
     "execution_count": 6,
     "metadata": {},
     "output_type": "execute_result"
    },
    {
     "data": {
      "image/png": "[encoded data removed]",
      "text/plain": [
       "<Figure size 640x480 with 1 Axes>"
      ]
     },
     "metadata": {},
     "output_type": "display_data"
    }
   ],
   "source": [
    "clients['vertical'].value_counts().plot(kind='barh', title='Top Verticals')"
   ]
  },
  {
   "cell_type": "code",
   "execution_count": 7,
   "id": "98953b26-ecc7-4ad8-a9eb-7d3d098825c0",
   "metadata": {},
   "outputs": [
    {
     "data": {
      "text/plain": [
       "<Axes: title={'center': 'Top Industries'}, ylabel='industry'>"
      ]
     },
     "execution_count": 7,
     "metadata": {},
     "output_type": "execute_result"
    },
    {
     "data": {
      "image/png": "[encoded data removed]",
      "text/plain": [
       "<Figure size 640x480 with 1 Axes>"
      ]
     },
     "metadata": {},
     "output_type": "display_data"
    }
   ],
   "source": [
    "clients['industry'].value_counts().plot(kind='barh', title='Top Industries')"
   ]
  },
  {
   "cell_type": "markdown",
   "id": "9b1ca612-ceda-4a64-ae49-3fdfac00a7ba",
   "metadata": {},
   "source": [
    "## 4. Accounts: Client-to-Account Mapping"
   ]
  },
  {
   "cell_type": "code",
   "execution_count": 8,
   "id": "70d90cfe-5e34-476d-9287-fd68a23a166d",
   "metadata": {},
   "outputs": [
    {
     "data": {
      "text/plain": [
       "hub_spot_deal_id\n",
       "234848914681    2\n",
       "234850008297    2\n",
       "234939159769    2\n",
       "234936083702    2\n",
       "262950234318    2\n",
       "Name: account_id, dtype: int64"
      ]
     },
     "execution_count": 8,
     "metadata": {},
     "output_type": "execute_result"
    }
   ],
   "source": [
    "acc_counts = accounts.groupby('hub_spot_deal_id')['account_id'].count().sort_values(ascending=False)\n",
    "acc_counts.head()"
   ]
  },
  {
   "cell_type": "code",
   "execution_count": 9,
   "id": "54f2c260-378a-4a7e-90c0-179f0c3005e6",
   "metadata": {},
   "outputs": [
    {
     "name": "stdout",
     "output_type": "stream",
     "text": [
      "count    44.000000\n",
      "mean      1.250000\n",
      "std       0.438019\n",
      "min       1.000000\n",
      "25%       1.000000\n",
      "50%       1.000000\n",
      "75%       1.250000\n",
      "max       2.000000\n",
      "Name: account_id, dtype: float64\n"
     ]
    },
    {
     "data": {
      "text/plain": [
       "Text(0.5, 0, 'Accounts per Client')"
      ]
     },
     "execution_count": 9,
     "metadata": {},
     "output_type": "execute_result"
    },
    {
     "data": {
      "image/png": "[encoded data removed]",
      "text/plain": [
       "<Figure size 640x480 with 1 Axes>"
      ]
     },
     "metadata": {},
     "output_type": "display_data"
    }
   ],
   "source": [
    "print(acc_counts.describe())\n",
    "\n",
    "acc_counts.hist()\n",
    "plt.title('Distribution: Number of Accounts per Client')\n",
    "plt.xlabel('Accounts per Client')"
   ]
  },
  {
   "cell_type": "markdown",
   "id": "3c504762-6302-482b-af5d-31f9582fdabc",
   "metadata": {},
   "source": [
    "## 5. Transfers: Internal Network"
   ]
  },
  {
   "cell_type": "code",
   "execution_count": 10,
   "id": "9ba9b7c2-371f-46bd-b2a4-733d597e4b61",
   "metadata": {},
   "outputs": [
    {
     "data": {
      "text/plain": [
       "Index(['transfer_id', 'london_created_date', 'sender_account_id',\n",
       "       'recipient_account_id', 'currency', 'amount',\n",
       "       'is_inter_entity_transfer', 'normalised_amount',\n",
       "       'reciever_fee_normalised', 'sender_fee_normalised'],\n",
       "      dtype='object')"
      ]
     },
     "execution_count": 10,
     "metadata": {},
     "output_type": "execute_result"
    }
   ],
   "source": [
    "transfers.columns"
   ]
  },
  {
   "cell_type": "code",
   "execution_count": 11,
   "id": "9eee192b-9ccb-4a4d-bc54-dd4db2b459ca",
   "metadata": {},
   "outputs": [
    {
     "name": "stdout",
     "output_type": "stream",
     "text": [
      "Top senders:\n",
      " sender_account_id\n",
      "16472    9.217713e+08\n",
      "14854    2.068626e+08\n",
      "16968    1.204557e+08\n",
      "16914    1.001850e+08\n",
      "16627    8.065332e+07\n",
      "14440    6.105975e+07\n",
      "14952    5.580666e+07\n",
      "17084    3.892957e+07\n",
      "14445    3.807054e+07\n",
      "14787    3.049476e+07\n",
      "Name: normalised_amount, dtype: float64\n",
      "Top receivers:\n",
      " recipient_account_id\n",
      "16627    9.481957e+08\n",
      "14669    2.651978e+08\n",
      "14663    1.222970e+08\n",
      "14445    7.538979e+07\n",
      "14400    6.513042e+07\n",
      "16472    6.305111e+07\n",
      "14462    3.397851e+07\n",
      "14440    3.243213e+07\n",
      "14439    2.893950e+07\n",
      "17030    2.797567e+07\n",
      "Name: normalised_amount, dtype: float64\n"
     ]
    },
    {
     "data": {
      "image/png": "[encoded data removed]",
      "text/plain": [
       "<Figure size 640x480 with 1 Axes>"
      ]
     },
     "metadata": {},
     "output_type": "display_data"
    }
   ],
   "source": [
    "# Value distribution\n",
    "transfers['normalised_amount'].hist(bins=50)\n",
    "plt.title('Distribution of Transfer Amounts')\n",
    "plt.xlabel('normalised_amount')\n",
    "\n",
    "# Top senders/receivers by total value\n",
    "top_senders = transfers.groupby('sender_account_id')['normalised_amount'].sum().nlargest(10)\n",
    "top_receivers = transfers.groupby('recipient_account_id')['normalised_amount'].sum().nlargest(10)\n",
    "\n",
    "print('Top senders:\\n', top_senders)\n",
    "print('Top receivers:\\n', top_receivers)\n"
   ]
  },
  {
   "cell_type": "code",
   "execution_count": 12,
   "id": "827de684-4e76-4bd7-b72f-9006820ffc53",
   "metadata": {},
   "outputs": [
    {
     "name": "stderr",
     "output_type": "stream",
     "text": [
      "C:\\Users\\haerb\\AppData\\Local\\Temp\\ipykernel_1056\\322088600.py:3: FutureWarning: 'M' is deprecated and will be removed in a future version, please use 'ME' instead.\n",
      "  transfers.set_index('london_created_date')['normalised_amount'].resample('M').sum().plot(title='Monthly Transfer Volume')\n"
     ]
    },
    {
     "data": {
      "text/plain": [
       "<Axes: title={'center': 'Monthly Transfer Volume'}, xlabel='london_created_date'>"
      ]
     },
     "execution_count": 12,
     "metadata": {},
     "output_type": "execute_result"
    },
    {
     "data": {
      "image/png": "[encoded data removed]",
      "text/plain": [
       "<Figure size 640x480 with 1 Axes>"
      ]
     },
     "metadata": {},
     "output_type": "display_data"
    }
   ],
   "source": [
    "# Time series\n",
    "transfers['london_created_date'] = pd.to_datetime(transfers['london_created_date'], errors='coerce')\n",
    "transfers.set_index('london_created_date')['normalised_amount'].resample('M').sum().plot(title='Monthly Transfer Volume')\n"
   ]
  },
  {
   "cell_type": "markdown",
   "id": "3afdeec9-4698-4054-9fff-e75f02fc4d1a",
   "metadata": {},
   "source": [
    "## 6. Deposits & Withdrawals: External Counterparties"
   ]
  },
  {
   "cell_type": "code",
   "execution_count": 13,
   "id": "138d5154-1d6c-4129-bd81-0c2fbefce170",
   "metadata": {},
   "outputs": [
    {
     "data": {
      "text/plain": [
       "Index(['deposit_id', 'account_id', 'london_value_date', 'currency', 'amount',\n",
       "       'normalised_amount', 'deposit_origin', 'deposit_remitter_name',\n",
       "       'deposit_fee_normalised', 'unnamed: 10'],\n",
       "      dtype='object')"
      ]
     },
     "execution_count": 13,
     "metadata": {},
     "output_type": "execute_result"
    }
   ],
   "source": [
    "deposits.columns"
   ]
  },
  {
   "cell_type": "code",
   "execution_count": 14,
   "id": "b859f700-71e2-486c-b2b9-03c57c389f04",
   "metadata": {},
   "outputs": [
    {
     "data": {
      "text/plain": [
       "Index(['withdrawal_id', 'account_id', 'london_value_date', 'currency',\n",
       "       'amount', 'normalised_amount', 'beneficiary_bank_country',\n",
       "       'beneficiary_name', 'withdrawal_fee_normalised'],\n",
       "      dtype='object')"
      ]
     },
     "execution_count": 14,
     "metadata": {},
     "output_type": "execute_result"
    }
   ],
   "source": [
    "withdrawals.columns"
   ]
  },
  {
   "cell_type": "code",
   "execution_count": 15,
   "id": "b5e661b3-05d8-4feb-a538-438f1c1a93d5",
   "metadata": {
    "scrolled": true
   },
   "outputs": [
    {
     "data": {
      "image/png": "[encoded data removed]",
      "text/plain": [
       "<Figure size 640x480 with 1 Axes>"
      ]
     },
     "metadata": {},
     "output_type": "display_data"
    },
    {
     "data": {
      "image/png": "[encoded data removed]",
      "text/plain": [
       "<Figure size 640x480 with 1 Axes>"
      ]
     },
     "metadata": {},
     "output_type": "display_data"
    },
    {
     "name": "stdout",
     "output_type": "stream",
     "text": [
      "Unique remitters: 248\n",
      "Unique beneficiaries: 52\n"
     ]
    }
   ],
   "source": [
    "deposits['normalised_amount'].hist(bins=50)\n",
    "plt.title('Distribution of Deposit Amounts')\n",
    "plt.show()\n",
    "\n",
    "withdrawals['normalised_amount'].hist(bins=50)\n",
    "plt.title('Distribution of Withdrawal Amounts')\n",
    "plt.show()\n",
    "\n",
    "print('Unique remitters:', deposits['deposit_remitter_name'].nunique())\n",
    "print('Unique beneficiaries:', withdrawals['beneficiary_name'].nunique())\n",
    "\n",
    "top_remitters = deposits.groupby('deposit_remitter_name')['normalised_amount'].sum().nlargest(10)\n",
    "top_beneficiaries = withdrawals.groupby('beneficiary_name')['normalised_amount'].sum().nlargest(10)"
   ]
  },
  {
   "cell_type": "markdown",
   "id": "3fe90e06-fb63-4f5b-b56f-34c2bcb9f47c",
   "metadata": {},
   "source": [
    "## 7. Cross Checks\n",
    "* Compare total deposits vs total withdrawals values & volumes.\n",
    "* How many clients are active (appear in transfers, deposits, or withdrawals)\n",
    "* Outflow/Inflow imbalances"
   ]
  },
  {
   "cell_type": "code",
   "execution_count": 16,
   "id": "3acba659-d1f1-4a0b-9be9-eeedd9a86d01",
   "metadata": {
    "scrolled": true
   },
   "outputs": [
    {
     "name": "stdout",
     "output_type": "stream",
     "text": [
      "Total deposits:   1,470,184,128\n",
      "Total withdrawals:1,975,542,671\n",
      "Total transfers:  1,778,408,304\n"
     ]
    }
   ],
   "source": [
    "# 1) Total transaction amounts (already included)\n",
    "total_deposits   = deposits['normalised_amount'].sum()\n",
    "total_withdrawals = withdrawals['normalised_amount'].sum()\n",
    "total_transfers   = transfers['normalised_amount'].sum()\n",
    "\n",
    "print(f'Total deposits:   {total_deposits:,.0f}')\n",
    "print(f'Total withdrawals:{total_withdrawals:,.0f}')\n",
    "print(f'Total transfers:  {total_transfers:,.0f}')"
   ]
  },
  {
   "cell_type": "code",
   "execution_count": 17,
   "id": "b9f96447-221b-404a-8d2e-62745904ce1c",
   "metadata": {},
   "outputs": [
    {
     "name": "stdout",
     "output_type": "stream",
     "text": [
      "Volume deposits:   2,268\n",
      "Volume withdrawals:5,868\n",
      "Volume transfers:  2,452\n"
     ]
    }
   ],
   "source": [
    "# 2) Total transaction volumes (counts)\n",
    "volume_deposits   = deposits.shape[0]\n",
    "volume_withdrawals = withdrawals.shape[0]\n",
    "volume_transfers   = transfers.shape[0]\n",
    "\n",
    "print(f'Volume deposits:   {volume_deposits:,}')\n",
    "print(f'Volume withdrawals:{volume_withdrawals:,}')\n",
    "print(f'Volume transfers:  {volume_transfers:,}')"
   ]
  },
  {
   "cell_type": "code",
   "execution_count": 18,
   "id": "751de10a-cf68-4250-a86b-a187c77fb93a",
   "metadata": {},
   "outputs": [
    {
     "name": "stdout",
     "output_type": "stream",
     "text": [
      "Active clients (by account id): 55 / 55 total accounts\n"
     ]
    }
   ],
   "source": [
    "# 3) How many clients are active (appear in at least one dataset)?\n",
    "clients_in_transfers = set(\n",
    "    pd.concat([transfers['sender_account_id'], transfers['recipient_account_id']], axis=0)\n",
    "    .dropna()\n",
    ").intersection(set(accounts['account_id']))\n",
    "\n",
    "clients_in_deposits = set(deposits['account_id'].dropna()).intersection(set(accounts['account_id']))\n",
    "clients_in_withdrawals = set(withdrawals['account_id'].dropna()).intersection(set(accounts['account_id']))\n",
    "\n",
    "active_client_ids = set()\n",
    "for cid_set in [clients_in_transfers, clients_in_deposits, clients_in_withdrawals]:\n",
    "    active_client_ids.update(cid_set)\n",
    "\n",
    "print(f'Active clients (by account id): {len(active_client_ids)} / {accounts['account_id'].nunique()} total accounts')"
   ]
  },
  {
   "cell_type": "code",
   "execution_count": 19,
   "id": "598461fa-1e47-4dbe-ad85-2a4ee2d79ed6",
   "metadata": {},
   "outputs": [
    {
     "data": {
      "text/plain": [
       "Index(['account_id', 'status', 'hub_spot_deal_id'], dtype='object')"
      ]
     },
     "execution_count": 19,
     "metadata": {},
     "output_type": "execute_result"
    }
   ],
   "source": [
    "accounts.columns"
   ]
  },
  {
   "cell_type": "code",
   "execution_count": 20,
   "id": "9b5906f7-254e-4d32-8b88-fbef62c9d180",
   "metadata": {},
   "outputs": [],
   "source": [
    "# 4) Inflow/outflow imbalance per client\n",
    "# Map account_id -> client_id\n",
    "acc_to_client = dict(zip(accounts['account_id'], accounts['hub_spot_deal_id']))\n",
    "\n",
    "deposits['client_id'] = deposits['account_id'].map(acc_to_client)\n",
    "withdrawals['client_id'] = withdrawals['account_id'].map(acc_to_client)\n",
    "\n",
    "client_inflow = deposits.groupby('client_id')['normalised_amount'].sum()\n",
    "client_outflow = withdrawals.groupby('client_id')['normalised_amount'].sum()\n",
    "\n",
    "client_balance = (client_inflow - client_outflow).fillna(0).to_frame('net_inflow')\n",
    "client_balance['inflow'] = client_inflow\n",
    "client_balance['outflow'] = client_outflow"
   ]
  },
  {
   "cell_type": "code",
   "execution_count": 22,
   "id": "815e95d5-1c68-482f-a89d-80487abf1fec",
   "metadata": {},
   "outputs": [
    {
     "data": {
      "text/html": [
       "<div>\n",
       "<style scoped>\n",
       "    .dataframe tbody tr th:only-of-type {\n",
       "        vertical-align: middle;\n",
       "    }\n",
       "\n",
       "    .dataframe tbody tr th {\n",
       "        vertical-align: top;\n",
       "    }\n",
       "\n",
       "    .dataframe thead th {\n",
       "        text-align: right;\n",
       "    }\n",
       "</style>\n",
       "<table border=\"1\" class=\"dataframe\">\n",
       "  <thead>\n",
       "    <tr style=\"text-align: right;\">\n",
       "      <th></th>\n",
       "      <th>net_inflow</th>\n",
       "      <th>inflow</th>\n",
       "      <th>outflow</th>\n",
       "    </tr>\n",
       "    <tr>\n",
       "      <th>client_id</th>\n",
       "      <th></th>\n",
       "      <th></th>\n",
       "      <th></th>\n",
       "    </tr>\n",
       "  </thead>\n",
       "  <tbody>\n",
       "    <tr>\n",
       "      <th>234939159769</th>\n",
       "      <td>8.440620e+08</td>\n",
       "      <td>9.807219e+08</td>\n",
       "      <td>1.366600e+08</td>\n",
       "    </tr>\n",
       "    <tr>\n",
       "      <th>262884422898</th>\n",
       "      <td>2.044687e+06</td>\n",
       "      <td>2.047906e+06</td>\n",
       "      <td>3.219200e+03</td>\n",
       "    </tr>\n",
       "    <tr>\n",
       "      <th>262764306625</th>\n",
       "      <td>3.584577e+05</td>\n",
       "      <td>7.251936e+06</td>\n",
       "      <td>6.893478e+06</td>\n",
       "    </tr>\n",
       "    <tr>\n",
       "      <th>262994262245</th>\n",
       "      <td>3.220827e+04</td>\n",
       "      <td>6.130640e+04</td>\n",
       "      <td>2.909814e+04</td>\n",
       "    </tr>\n",
       "    <tr>\n",
       "      <th>258991877340</th>\n",
       "      <td>1.723255e+04</td>\n",
       "      <td>5.669502e+06</td>\n",
       "      <td>5.652270e+06</td>\n",
       "    </tr>\n",
       "    <tr>\n",
       "      <th>258740050135</th>\n",
       "      <td>0.000000e+00</td>\n",
       "      <td>NaN</td>\n",
       "      <td>1.257897e+05</td>\n",
       "    </tr>\n",
       "    <tr>\n",
       "      <th>262956506345</th>\n",
       "      <td>0.000000e+00</td>\n",
       "      <td>NaN</td>\n",
       "      <td>3.578046e+05</td>\n",
       "    </tr>\n",
       "    <tr>\n",
       "      <th>262956506344</th>\n",
       "      <td>0.000000e+00</td>\n",
       "      <td>NaN</td>\n",
       "      <td>6.524575e+05</td>\n",
       "    </tr>\n",
       "    <tr>\n",
       "      <th>234937682115</th>\n",
       "      <td>0.000000e+00</td>\n",
       "      <td>2.146074e+06</td>\n",
       "      <td>NaN</td>\n",
       "    </tr>\n",
       "    <tr>\n",
       "      <th>262994262246</th>\n",
       "      <td>0.000000e+00</td>\n",
       "      <td>NaN</td>\n",
       "      <td>1.892465e+06</td>\n",
       "    </tr>\n",
       "  </tbody>\n",
       "</table>\n",
       "</div>"
      ],
      "text/plain": [
       "                net_inflow        inflow       outflow\n",
       "client_id                                             \n",
       "234939159769  8.440620e+08  9.807219e+08  1.366600e+08\n",
       "262884422898  2.044687e+06  2.047906e+06  3.219200e+03\n",
       "262764306625  3.584577e+05  7.251936e+06  6.893478e+06\n",
       "262994262245  3.220827e+04  6.130640e+04  2.909814e+04\n",
       "258991877340  1.723255e+04  5.669502e+06  5.652270e+06\n",
       "258740050135  0.000000e+00           NaN  1.257897e+05\n",
       "262956506345  0.000000e+00           NaN  3.578046e+05\n",
       "262956506344  0.000000e+00           NaN  6.524575e+05\n",
       "234937682115  0.000000e+00  2.146074e+06           NaN\n",
       "262994262246  0.000000e+00           NaN  1.892465e+06"
      ]
     },
     "execution_count": 22,
     "metadata": {},
     "output_type": "execute_result"
    }
   ],
   "source": [
    "# Look at largest imbalances\n",
    "client_balance.sort_values('net_inflow', ascending=False).head(10)"
   ]
  }
 ],
 "metadata": {
  "kernelspec": {
   "display_name": "Python 3 (ipykernel)",
   "language": "python",
   "name": "python3"
  },
  "language_info": {
   "codemirror_mode": {
    "name": "ipython",
    "version": 3
   },
   "file_extension": ".py",
   "mimetype": "text/x-python",
   "name": "python",
   "nbconvert_exporter": "python",
   "pygments_lexer": "ipython3",
   "version": "3.13.6"
  }
 },
 "nbformat": 4,
 "nbformat_minor": 5
}

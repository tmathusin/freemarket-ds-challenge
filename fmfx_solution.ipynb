{
 "cells": [
  {
   "cell_type": "markdown",
   "id": "c11f425e",
   "metadata": {},
   "source": [
    "# Freemarket Code Challenge\n",
    "\n",
    "**Covers:**\n",
    "1) Network effect from `Transfers`\n",
    "2) Fuzzy standardisation of Beneficiaries & Remitters for flow size\n"
   ]
  },
  {
   "cell_type": "code",
   "execution_count": 40,
   "id": "065274d1-cbd4-41d4-8db2-045febcfd937",
   "metadata": {},
   "outputs": [
    {
     "name": "stdout",
     "output_type": "stream",
     "text": [
      "The autoreload extension is already loaded. To reload it, use:\n",
      "  %reload_ext autoreload\n"
     ]
    }
   ],
   "source": [
    "%load_ext autoreload\n",
    "%autoreload 2\n",
    "\n",
    "import os, sys\n",
    "import pandas as pd\n",
    "import matplotlib.pyplot as plt\n",
    "sys.path.append(os.path.abspath('Code Test'))\n",
    "from network import build_flow_pairs, participant_metrics, top_participants\n",
    "from cleaning import standardise_counterparty_names, aggregate_flows\n",
    "from viz import bar_top_series, plot_network\n",
    "\n",
    "data_path = 'data/Test for Data Science role.xlsx'"
   ]
  },
  {
   "cell_type": "code",
   "execution_count": 2,
   "id": "c05fd15e",
   "metadata": {},
   "outputs": [],
   "source": [
    "# Load all tables\n",
    "# Returns a dict of dataframes with keys: client, accounts, deposits, withdrawals, transfers\n",
    "sheets = ['Client', 'Accounts', 'Deposits', 'Withdrawals', 'Transfers']\n",
    "dfs = {s.lower(): pd.read_excel(data_path, sheet_name=s, header=1) for s in sheets}\n",
    "\n",
    "# Normalise column names\n",
    "for k, df in dfs.items():\n",
    "    # Drop columns that are entirely NaN\n",
    "    df = df.dropna(axis=1, how='all')\n",
    "    # df.columns = (df.columns.str.strip().str.lower())\n",
    "    df.columns = (df.columns\n",
    "                  .str.replace('(?<=[a-z])(?=[A-Z])', '_', regex=True)\n",
    "                  .str.lower()\n",
    "                 )\n",
    "    dfs[k] = df"
   ]
  },
  {
   "cell_type": "code",
   "execution_count": 3,
   "id": "edbd3f74-c67e-4e50-9efd-9d50f8fdcd90",
   "metadata": {},
   "outputs": [
    {
     "name": "stdout",
     "output_type": "stream",
     "text": [
      "client (44, 12) ['hub_spot_deal_id', 'group_name', 'group_country_incorp', 'company_name', 'company_country_incorp', 'deal_stage', 'state', 'risk_rating', 'pod', 'vertical', 'segment', 'industry']\n",
      "accounts (55, 3) ['account_id', 'status', 'hub_spot_deal_id']\n",
      "deposits (2268, 10) ['deposit_id', 'account_id', 'london_value_date', 'currency', 'amount', 'normalised_amount', 'deposit_origin', 'deposit_remitter_name', 'deposit_fee_normalised', 'unnamed: 10']\n",
      "withdrawals (5868, 9) ['withdrawal_id', 'account_id', 'london_value_date', 'currency', 'amount', 'normalised_amount', 'beneficiary_bank_country', 'beneficiary_name', 'withdrawal_fee_normalised']\n",
      "transfers (2452, 10) ['transfer_id', 'london_created_date', 'sender_account_id', 'recipient_account_id', 'currency', 'amount', 'is_inter_entity_transfer', 'normalised_amount', 'reciever_fee_normalised', 'sender_fee_normalised']\n"
     ]
    }
   ],
   "source": [
    "# List all columns by table\n",
    "\n",
    "for k,v in dfs.items():\n",
    "    print(k, v.shape, list(v.columns))"
   ]
  },
  {
   "cell_type": "code",
   "execution_count": 50,
   "id": "42c864c2-db76-4395-89ae-b3704120b09a",
   "metadata": {},
   "outputs": [],
   "source": [
    "# assign dataframe name to each table\n",
    "clients_df = dfs['client']\n",
    "accounts_df = dfs['accounts']\n",
    "deposits_df = dfs['deposits'].iloc[:, :-1]\n",
    "withdrawals_df = dfs['withdrawals']\n",
    "transfers_df = dfs['transfers']"
   ]
  },
  {
   "cell_type": "markdown",
   "id": "24ba0f6c",
   "metadata": {},
   "source": [
    "## 1) Network effect"
   ]
  },
  {
   "cell_type": "code",
   "execution_count": 5,
   "id": "4f86e568",
   "metadata": {},
   "outputs": [
    {
     "data": {
      "text/html": [
       "<div>\n",
       "<style scoped>\n",
       "    .dataframe tbody tr th:only-of-type {\n",
       "        vertical-align: middle;\n",
       "    }\n",
       "\n",
       "    .dataframe tbody tr th {\n",
       "        vertical-align: top;\n",
       "    }\n",
       "\n",
       "    .dataframe thead th {\n",
       "        text-align: right;\n",
       "    }\n",
       "</style>\n",
       "<table border=\"1\" class=\"dataframe\">\n",
       "  <thead>\n",
       "    <tr style=\"text-align: right;\">\n",
       "      <th></th>\n",
       "      <th>source_id</th>\n",
       "      <th>destination_id</th>\n",
       "      <th>transfer_count</th>\n",
       "      <th>total_value</th>\n",
       "    </tr>\n",
       "  </thead>\n",
       "  <tbody>\n",
       "    <tr>\n",
       "      <th>62</th>\n",
       "      <td>16472</td>\n",
       "      <td>16627</td>\n",
       "      <td>399</td>\n",
       "      <td>8.764210e+08</td>\n",
       "    </tr>\n",
       "    <tr>\n",
       "      <th>45</th>\n",
       "      <td>14854</td>\n",
       "      <td>14669</td>\n",
       "      <td>197</td>\n",
       "      <td>1.647358e+08</td>\n",
       "    </tr>\n",
       "    <tr>\n",
       "      <th>69</th>\n",
       "      <td>16627</td>\n",
       "      <td>16472</td>\n",
       "      <td>165</td>\n",
       "      <td>6.125971e+07</td>\n",
       "    </tr>\n",
       "    <tr>\n",
       "      <th>3</th>\n",
       "      <td>14440</td>\n",
       "      <td>14445</td>\n",
       "      <td>57</td>\n",
       "      <td>6.105975e+07</td>\n",
       "    </tr>\n",
       "    <tr>\n",
       "      <th>81</th>\n",
       "      <td>16914</td>\n",
       "      <td>14669</td>\n",
       "      <td>155</td>\n",
       "      <td>5.416830e+07</td>\n",
       "    </tr>\n",
       "  </tbody>\n",
       "</table>\n",
       "</div>"
      ],
      "text/plain": [
       "    source_id  destination_id  transfer_count   total_value\n",
       "62      16472           16627             399  8.764210e+08\n",
       "45      14854           14669             197  1.647358e+08\n",
       "69      16627           16472             165  6.125971e+07\n",
       "3       14440           14445              57  6.105975e+07\n",
       "81      16914           14669             155  5.416830e+07"
      ]
     },
     "execution_count": 5,
     "metadata": {},
     "output_type": "execute_result"
    }
   ],
   "source": [
    "flow_pairs = build_flow_pairs(dfs['transfers'])\n",
    "flow_pairs.sort_values('total_value', ascending=False).head()"
   ]
  },
  {
   "cell_type": "code",
   "execution_count": 6,
   "id": "0250b4fe",
   "metadata": {},
   "outputs": [
    {
     "data": {
      "text/html": [
       "<div>\n",
       "<style scoped>\n",
       "    .dataframe tbody tr th:only-of-type {\n",
       "        vertical-align: middle;\n",
       "    }\n",
       "\n",
       "    .dataframe tbody tr th {\n",
       "        vertical-align: top;\n",
       "    }\n",
       "\n",
       "    .dataframe thead th {\n",
       "        text-align: right;\n",
       "    }\n",
       "</style>\n",
       "<table border=\"1\" class=\"dataframe\">\n",
       "  <thead>\n",
       "    <tr style=\"text-align: right;\">\n",
       "      <th></th>\n",
       "      <th>participant_id</th>\n",
       "      <th>unique_destinations</th>\n",
       "      <th>unique_sources</th>\n",
       "      <th>total_sent</th>\n",
       "      <th>total_received</th>\n",
       "      <th>unique_counterparties</th>\n",
       "      <th>has_two_way_flow</th>\n",
       "      <th>interaction_profile</th>\n",
       "    </tr>\n",
       "  </thead>\n",
       "  <tbody>\n",
       "    <tr>\n",
       "      <th>12</th>\n",
       "      <td>14462</td>\n",
       "      <td>8.0</td>\n",
       "      <td>9.0</td>\n",
       "      <td>2.979422e+07</td>\n",
       "      <td>3.397851e+07</td>\n",
       "      <td>17.0</td>\n",
       "      <td>True</td>\n",
       "      <td>Hub</td>\n",
       "    </tr>\n",
       "    <tr>\n",
       "      <th>34</th>\n",
       "      <td>16627</td>\n",
       "      <td>7.0</td>\n",
       "      <td>6.0</td>\n",
       "      <td>8.065332e+07</td>\n",
       "      <td>9.481957e+08</td>\n",
       "      <td>13.0</td>\n",
       "      <td>True</td>\n",
       "      <td>Hub</td>\n",
       "    </tr>\n",
       "    <tr>\n",
       "      <th>3</th>\n",
       "      <td>14445</td>\n",
       "      <td>8.0</td>\n",
       "      <td>5.0</td>\n",
       "      <td>3.807054e+07</td>\n",
       "      <td>7.538979e+07</td>\n",
       "      <td>13.0</td>\n",
       "      <td>True</td>\n",
       "      <td>Hub</td>\n",
       "    </tr>\n",
       "    <tr>\n",
       "      <th>31</th>\n",
       "      <td>16472</td>\n",
       "      <td>7.0</td>\n",
       "      <td>4.0</td>\n",
       "      <td>9.217713e+08</td>\n",
       "      <td>6.305111e+07</td>\n",
       "      <td>11.0</td>\n",
       "      <td>True</td>\n",
       "      <td>Broker</td>\n",
       "    </tr>\n",
       "    <tr>\n",
       "      <th>9</th>\n",
       "      <td>14459</td>\n",
       "      <td>6.0</td>\n",
       "      <td>5.0</td>\n",
       "      <td>3.028822e+06</td>\n",
       "      <td>1.037999e+07</td>\n",
       "      <td>11.0</td>\n",
       "      <td>True</td>\n",
       "      <td>Hub</td>\n",
       "    </tr>\n",
       "    <tr>\n",
       "      <th>2</th>\n",
       "      <td>14440</td>\n",
       "      <td>1.0</td>\n",
       "      <td>5.0</td>\n",
       "      <td>6.105975e+07</td>\n",
       "      <td>3.243213e+07</td>\n",
       "      <td>6.0</td>\n",
       "      <td>True</td>\n",
       "      <td>Broker</td>\n",
       "    </tr>\n",
       "    <tr>\n",
       "      <th>23</th>\n",
       "      <td>14857</td>\n",
       "      <td>3.0</td>\n",
       "      <td>3.0</td>\n",
       "      <td>6.319220e+06</td>\n",
       "      <td>1.276058e+06</td>\n",
       "      <td>6.0</td>\n",
       "      <td>True</td>\n",
       "      <td>Regular Member</td>\n",
       "    </tr>\n",
       "    <tr>\n",
       "      <th>0</th>\n",
       "      <td>14400</td>\n",
       "      <td>2.0</td>\n",
       "      <td>3.0</td>\n",
       "      <td>1.631523e+07</td>\n",
       "      <td>6.513042e+07</td>\n",
       "      <td>5.0</td>\n",
       "      <td>False</td>\n",
       "      <td>Regular Member</td>\n",
       "    </tr>\n",
       "    <tr>\n",
       "      <th>17</th>\n",
       "      <td>14669</td>\n",
       "      <td>1.0</td>\n",
       "      <td>4.0</td>\n",
       "      <td>4.561214e+05</td>\n",
       "      <td>2.651978e+08</td>\n",
       "      <td>5.0</td>\n",
       "      <td>False</td>\n",
       "      <td>Regular Member</td>\n",
       "    </tr>\n",
       "    <tr>\n",
       "      <th>7</th>\n",
       "      <td>14456</td>\n",
       "      <td>2.0</td>\n",
       "      <td>3.0</td>\n",
       "      <td>2.308977e+04</td>\n",
       "      <td>2.620894e+05</td>\n",
       "      <td>5.0</td>\n",
       "      <td>True</td>\n",
       "      <td>Regular Member</td>\n",
       "    </tr>\n",
       "  </tbody>\n",
       "</table>\n",
       "</div>"
      ],
      "text/plain": [
       "    participant_id  unique_destinations  unique_sources    total_sent  \\\n",
       "12           14462                  8.0             9.0  2.979422e+07   \n",
       "34           16627                  7.0             6.0  8.065332e+07   \n",
       "3            14445                  8.0             5.0  3.807054e+07   \n",
       "31           16472                  7.0             4.0  9.217713e+08   \n",
       "9            14459                  6.0             5.0  3.028822e+06   \n",
       "2            14440                  1.0             5.0  6.105975e+07   \n",
       "23           14857                  3.0             3.0  6.319220e+06   \n",
       "0            14400                  2.0             3.0  1.631523e+07   \n",
       "17           14669                  1.0             4.0  4.561214e+05   \n",
       "7            14456                  2.0             3.0  2.308977e+04   \n",
       "\n",
       "    total_received  unique_counterparties  has_two_way_flow  \\\n",
       "12    3.397851e+07                   17.0              True   \n",
       "34    9.481957e+08                   13.0              True   \n",
       "3     7.538979e+07                   13.0              True   \n",
       "31    6.305111e+07                   11.0              True   \n",
       "9     1.037999e+07                   11.0              True   \n",
       "2     3.243213e+07                    6.0              True   \n",
       "23    1.276058e+06                    6.0              True   \n",
       "0     6.513042e+07                    5.0             False   \n",
       "17    2.651978e+08                    5.0             False   \n",
       "7     2.620894e+05                    5.0              True   \n",
       "\n",
       "   interaction_profile  \n",
       "12                 Hub  \n",
       "34                 Hub  \n",
       "3                  Hub  \n",
       "31              Broker  \n",
       "9                  Hub  \n",
       "2               Broker  \n",
       "23      Regular Member  \n",
       "0       Regular Member  \n",
       "17      Regular Member  \n",
       "7       Regular Member  "
      ]
     },
     "execution_count": 6,
     "metadata": {},
     "output_type": "execute_result"
    }
   ],
   "source": [
    "participants = participant_metrics(flow_pairs)\n",
    "top_p = top_participants(participants, 20)\n",
    "top_p.head(10)"
   ]
  },
  {
   "cell_type": "code",
   "execution_count": 7,
   "id": "48624fd8-0244-4d54-8883-674df60b8910",
   "metadata": {},
   "outputs": [
    {
     "data": {
      "text/plain": [
       "interaction_profile\n",
       "Peripheral Member    34\n",
       "Regular Member       14\n",
       "Hub                   4\n",
       "Broker                3\n",
       "Name: count, dtype: int64"
      ]
     },
     "execution_count": 7,
     "metadata": {},
     "output_type": "execute_result"
    }
   ],
   "source": [
    "participants['interaction_profile'].value_counts()"
   ]
  },
  {
   "cell_type": "code",
   "execution_count": 8,
   "id": "8c36ac12",
   "metadata": {},
   "outputs": [
    {
     "data": {
      "text/plain": [
       "<Figure size 640x480 with 0 Axes>"
      ]
     },
     "metadata": {},
     "output_type": "display_data"
    },
    {
     "data": {
      "image/png": "[encoded data removed]",
      "text/plain": [
       "<Figure size 640x480 with 1 Axes>"
      ]
     },
     "metadata": {},
     "output_type": "display_data"
    },
    {
     "data": {
      "image/png": "[encoded data removed]",
      "text/plain": [
       "<Figure size 640x480 with 1 Axes>"
      ]
     },
     "metadata": {},
     "output_type": "display_data"
    }
   ],
   "source": [
    "bar_top_series(top_p, 'participant_id', 'unique_counterparties', top_n=15,\n",
    "               title='Top participants by unique counterparties')\n",
    "plt.show()\n",
    "plot_network(flow_pairs.sample(min(len(flow_pairs), 500), random_state=42))"
   ]
  },
  {
   "cell_type": "markdown",
   "id": "a5da0481",
   "metadata": {},
   "source": [
    "## 2) Outside the Network — Fuzzy standardisation"
   ]
  },
  {
   "cell_type": "code",
   "execution_count": 51,
   "id": "2bc169ad-e4cb-4347-b88b-2436b06bd5e1",
   "metadata": {},
   "outputs": [
    {
     "data": {
      "text/plain": [
       "Index(['deposit_id', 'account_id', 'london_value_date', 'currency', 'amount',\n",
       "       'normalised_amount', 'deposit_origin', 'deposit_remitter_name',\n",
       "       'deposit_fee_normalised'],\n",
       "      dtype='object')"
      ]
     },
     "execution_count": 51,
     "metadata": {},
     "output_type": "execute_result"
    }
   ],
   "source": [
    "# Deposits (Remitters)\n",
    "deposits_df.columns"
   ]
  },
  {
   "cell_type": "code",
   "execution_count": 52,
   "id": "7fd97860",
   "metadata": {},
   "outputs": [],
   "source": [
    "# Deposits (Remitters)\n",
    "deposits_std = standardise_counterparty_names(deposits_df, col=\"deposit_remitter_name\", threshold=0.9)"
   ]
  },
  {
   "cell_type": "code",
   "execution_count": 53,
   "id": "32814fa6-e41d-490a-ad2e-65ae938a5884",
   "metadata": {},
   "outputs": [
    {
     "data": {
      "text/html": [
       "<div>\n",
       "<style scoped>\n",
       "    .dataframe tbody tr th:only-of-type {\n",
       "        vertical-align: middle;\n",
       "    }\n",
       "\n",
       "    .dataframe tbody tr th {\n",
       "        vertical-align: top;\n",
       "    }\n",
       "\n",
       "    .dataframe thead th {\n",
       "        text-align: right;\n",
       "    }\n",
       "</style>\n",
       "<table border=\"1\" class=\"dataframe\">\n",
       "  <thead>\n",
       "    <tr style=\"text-align: right;\">\n",
       "      <th></th>\n",
       "      <th>deposit_id</th>\n",
       "      <th>account_id</th>\n",
       "      <th>london_value_date</th>\n",
       "      <th>currency</th>\n",
       "      <th>amount</th>\n",
       "      <th>normalised_amount</th>\n",
       "      <th>deposit_origin</th>\n",
       "      <th>deposit_remitter_name</th>\n",
       "      <th>deposit_fee_normalised</th>\n",
       "      <th>deposit_remitter_name_standardised</th>\n",
       "    </tr>\n",
       "  </thead>\n",
       "  <tbody>\n",
       "    <tr>\n",
       "      <th>0</th>\n",
       "      <td>291106</td>\n",
       "      <td>16472</td>\n",
       "      <td>2025-02-03 14:48:25.627</td>\n",
       "      <td>USD</td>\n",
       "      <td>440000.0</td>\n",
       "      <td>356259.574</td>\n",
       "      <td>US</td>\n",
       "      <td>Remitter 18</td>\n",
       "      <td>204.041789</td>\n",
       "      <td>Remitter 18</td>\n",
       "    </tr>\n",
       "    <tr>\n",
       "      <th>1</th>\n",
       "      <td>281968</td>\n",
       "      <td>16472</td>\n",
       "      <td>2025-01-02 09:51:12.963</td>\n",
       "      <td>GBP</td>\n",
       "      <td>440000.0</td>\n",
       "      <td>440000.000</td>\n",
       "      <td>GB</td>\n",
       "      <td>Remitter 8</td>\n",
       "      <td>262.600000</td>\n",
       "      <td>Remitter 18</td>\n",
       "    </tr>\n",
       "    <tr>\n",
       "      <th>2</th>\n",
       "      <td>286005</td>\n",
       "      <td>16472</td>\n",
       "      <td>2025-01-16 11:30:19.040</td>\n",
       "      <td>GBP</td>\n",
       "      <td>160000.0</td>\n",
       "      <td>160000.000</td>\n",
       "      <td>GB</td>\n",
       "      <td>Remitter 8</td>\n",
       "      <td>51.000000</td>\n",
       "      <td>Remitter 18</td>\n",
       "    </tr>\n",
       "    <tr>\n",
       "      <th>3</th>\n",
       "      <td>314361</td>\n",
       "      <td>16627</td>\n",
       "      <td>2025-04-23 09:15:33.817</td>\n",
       "      <td>GBP</td>\n",
       "      <td>6000.0</td>\n",
       "      <td>6000.000</td>\n",
       "      <td>GB</td>\n",
       "      <td>Afriex Global Remit</td>\n",
       "      <td>29.400000</td>\n",
       "      <td>Afriex Global Remit</td>\n",
       "    </tr>\n",
       "    <tr>\n",
       "      <th>4</th>\n",
       "      <td>316521</td>\n",
       "      <td>16627</td>\n",
       "      <td>2025-04-30 08:44:19.117</td>\n",
       "      <td>GBP</td>\n",
       "      <td>24000.0</td>\n",
       "      <td>24000.000</td>\n",
       "      <td>GB</td>\n",
       "      <td>Afriex Global Remit</td>\n",
       "      <td>29.400000</td>\n",
       "      <td>Afriex Global Remit</td>\n",
       "    </tr>\n",
       "  </tbody>\n",
       "</table>\n",
       "</div>"
      ],
      "text/plain": [
       "   deposit_id  account_id       london_value_date currency    amount  \\\n",
       "0      291106       16472 2025-02-03 14:48:25.627      USD  440000.0   \n",
       "1      281968       16472 2025-01-02 09:51:12.963      GBP  440000.0   \n",
       "2      286005       16472 2025-01-16 11:30:19.040      GBP  160000.0   \n",
       "3      314361       16627 2025-04-23 09:15:33.817      GBP    6000.0   \n",
       "4      316521       16627 2025-04-30 08:44:19.117      GBP   24000.0   \n",
       "\n",
       "   normalised_amount deposit_origin deposit_remitter_name  \\\n",
       "0         356259.574             US           Remitter 18   \n",
       "1         440000.000             GB            Remitter 8   \n",
       "2         160000.000             GB            Remitter 8   \n",
       "3           6000.000             GB   Afriex Global Remit   \n",
       "4          24000.000             GB   Afriex Global Remit   \n",
       "\n",
       "   deposit_fee_normalised deposit_remitter_name_standardised  \n",
       "0              204.041789                        Remitter 18  \n",
       "1              262.600000                        Remitter 18  \n",
       "2               51.000000                        Remitter 18  \n",
       "3               29.400000                Afriex Global Remit  \n",
       "4               29.400000                Afriex Global Remit  "
      ]
     },
     "execution_count": 53,
     "metadata": {},
     "output_type": "execute_result"
    }
   ],
   "source": [
    "deposits_std.head()"
   ]
  },
  {
   "cell_type": "code",
   "execution_count": 54,
   "id": "d6d4998b-5655-47bd-9723-77f15f16d3d1",
   "metadata": {},
   "outputs": [
    {
     "data": {
      "text/html": [
       "<div>\n",
       "<style scoped>\n",
       "    .dataframe tbody tr th:only-of-type {\n",
       "        vertical-align: middle;\n",
       "    }\n",
       "\n",
       "    .dataframe tbody tr th {\n",
       "        vertical-align: top;\n",
       "    }\n",
       "\n",
       "    .dataframe thead th {\n",
       "        text-align: right;\n",
       "    }\n",
       "</style>\n",
       "<table border=\"1\" class=\"dataframe\">\n",
       "  <thead>\n",
       "    <tr style=\"text-align: right;\">\n",
       "      <th></th>\n",
       "      <th>entity</th>\n",
       "      <th>amount</th>\n",
       "    </tr>\n",
       "  </thead>\n",
       "  <tbody>\n",
       "    <tr>\n",
       "      <th>0</th>\n",
       "      <td>Flutterwave Ltd</td>\n",
       "      <td>5.844396e+08</td>\n",
       "    </tr>\n",
       "    <tr>\n",
       "      <th>1</th>\n",
       "      <td>Paystack Nigeria Ltd</td>\n",
       "      <td>2.077539e+08</td>\n",
       "    </tr>\n",
       "    <tr>\n",
       "      <th>2</th>\n",
       "      <td>Interswitch Ltd</td>\n",
       "      <td>1.234269e+08</td>\n",
       "    </tr>\n",
       "    <tr>\n",
       "      <th>3</th>\n",
       "      <td>Mpesa Safaricom</td>\n",
       "      <td>5.779108e+07</td>\n",
       "    </tr>\n",
       "    <tr>\n",
       "      <th>4</th>\n",
       "      <td>Flutter Wave Ng</td>\n",
       "      <td>5.260893e+07</td>\n",
       "    </tr>\n",
       "    <tr>\n",
       "      <th>5</th>\n",
       "      <td>Dpogroup Ltd</td>\n",
       "      <td>5.045639e+07</td>\n",
       "    </tr>\n",
       "    <tr>\n",
       "      <th>6</th>\n",
       "      <td>M Pesa Kenya Ltd</td>\n",
       "      <td>4.345047e+07</td>\n",
       "    </tr>\n",
       "    <tr>\n",
       "      <th>7</th>\n",
       "      <td>Nsano Gh Ltd</td>\n",
       "      <td>4.018284e+07</td>\n",
       "    </tr>\n",
       "    <tr>\n",
       "      <th>8</th>\n",
       "      <td>Nsano Accra</td>\n",
       "      <td>3.841823e+07</td>\n",
       "    </tr>\n",
       "    <tr>\n",
       "      <th>9</th>\n",
       "      <td>Flwave Lagos</td>\n",
       "      <td>3.470694e+07</td>\n",
       "    </tr>\n",
       "  </tbody>\n",
       "</table>\n",
       "</div>"
      ],
      "text/plain": [
       "                 entity        amount\n",
       "0       Flutterwave Ltd  5.844396e+08\n",
       "1  Paystack Nigeria Ltd  2.077539e+08\n",
       "2       Interswitch Ltd  1.234269e+08\n",
       "3       Mpesa Safaricom  5.779108e+07\n",
       "4       Flutter Wave Ng  5.260893e+07\n",
       "5          Dpogroup Ltd  5.045639e+07\n",
       "6      M Pesa Kenya Ltd  4.345047e+07\n",
       "7          Nsano Gh Ltd  4.018284e+07\n",
       "8           Nsano Accra  3.841823e+07\n",
       "9          Flwave Lagos  3.470694e+07"
      ]
     },
     "execution_count": 54,
     "metadata": {},
     "output_type": "execute_result"
    }
   ],
   "source": [
    "remitter_flows = aggregate_flows(deposits_std, entity_col=\"deposit_remitter_name_standardised\", amount_col=\"normalised_amount\")\n",
    "remitter_flows.head(10)"
   ]
  },
  {
   "cell_type": "code",
   "execution_count": 55,
   "id": "93fa6869-b599-4126-9bd6-36a5a7e9f81c",
   "metadata": {},
   "outputs": [
    {
     "data": {
      "text/plain": [
       "Index(['withdrawal_id', 'account_id', 'london_value_date', 'currency',\n",
       "       'amount', 'normalised_amount', 'beneficiary_bank_country',\n",
       "       'beneficiary_name', 'withdrawal_fee_normalised'],\n",
       "      dtype='object')"
      ]
     },
     "execution_count": 55,
     "metadata": {},
     "output_type": "execute_result"
    }
   ],
   "source": [
    "# Withdrawals (Beneficiaries)\n",
    "withdrawals_df.columns"
   ]
  },
  {
   "cell_type": "code",
   "execution_count": 56,
   "id": "712676d9",
   "metadata": {},
   "outputs": [
    {
     "data": {
      "text/html": [
       "<div>\n",
       "<style scoped>\n",
       "    .dataframe tbody tr th:only-of-type {\n",
       "        vertical-align: middle;\n",
       "    }\n",
       "\n",
       "    .dataframe tbody tr th {\n",
       "        vertical-align: top;\n",
       "    }\n",
       "\n",
       "    .dataframe thead th {\n",
       "        text-align: right;\n",
       "    }\n",
       "</style>\n",
       "<table border=\"1\" class=\"dataframe\">\n",
       "  <thead>\n",
       "    <tr style=\"text-align: right;\">\n",
       "      <th></th>\n",
       "      <th>withdrawal_id</th>\n",
       "      <th>account_id</th>\n",
       "      <th>london_value_date</th>\n",
       "      <th>currency</th>\n",
       "      <th>amount</th>\n",
       "      <th>normalised_amount</th>\n",
       "      <th>beneficiary_bank_country</th>\n",
       "      <th>beneficiary_name</th>\n",
       "      <th>withdrawal_fee_normalised</th>\n",
       "      <th>beneficiary_name_standardised</th>\n",
       "    </tr>\n",
       "  </thead>\n",
       "  <tbody>\n",
       "    <tr>\n",
       "      <th>0</th>\n",
       "      <td>322990</td>\n",
       "      <td>14669</td>\n",
       "      <td>2025-01-20 10:39:55.563</td>\n",
       "      <td>EUR</td>\n",
       "      <td>38350.52769</td>\n",
       "      <td>32472.31098</td>\n",
       "      <td>LT</td>\n",
       "      <td>Beneficiary 3</td>\n",
       "      <td>205.987547</td>\n",
       "      <td>Beneficiary 3</td>\n",
       "    </tr>\n",
       "    <tr>\n",
       "      <th>1</th>\n",
       "      <td>336346</td>\n",
       "      <td>14669</td>\n",
       "      <td>2025-03-12 11:33:08.160</td>\n",
       "      <td>EUR</td>\n",
       "      <td>69586.48576</td>\n",
       "      <td>58590.74496</td>\n",
       "      <td>LT</td>\n",
       "      <td>Beneficiary 3</td>\n",
       "      <td>205.901522</td>\n",
       "      <td>Beneficiary 3</td>\n",
       "    </tr>\n",
       "    <tr>\n",
       "      <th>2</th>\n",
       "      <td>341195</td>\n",
       "      <td>14669</td>\n",
       "      <td>2025-03-31 10:43:18.706</td>\n",
       "      <td>EUR</td>\n",
       "      <td>19826.49636</td>\n",
       "      <td>16588.23448</td>\n",
       "      <td>LT</td>\n",
       "      <td>Beneficiary 3</td>\n",
       "      <td>206.605492</td>\n",
       "      <td>Beneficiary 3</td>\n",
       "    </tr>\n",
       "    <tr>\n",
       "      <th>3</th>\n",
       "      <td>353143</td>\n",
       "      <td>14669</td>\n",
       "      <td>2025-05-15 11:03:38.765</td>\n",
       "      <td>EUR</td>\n",
       "      <td>93023.91229</td>\n",
       "      <td>78425.84394</td>\n",
       "      <td>LT</td>\n",
       "      <td>Beneficiary 3</td>\n",
       "      <td>206.124907</td>\n",
       "      <td>Beneficiary 3</td>\n",
       "    </tr>\n",
       "    <tr>\n",
       "      <th>4</th>\n",
       "      <td>364051</td>\n",
       "      <td>14669</td>\n",
       "      <td>2025-06-24 12:52:33.569</td>\n",
       "      <td>EUR</td>\n",
       "      <td>52467.08225</td>\n",
       "      <td>44729.86980</td>\n",
       "      <td>LT</td>\n",
       "      <td>Beneficiary 3</td>\n",
       "      <td>206.434820</td>\n",
       "      <td>Beneficiary 3</td>\n",
       "    </tr>\n",
       "  </tbody>\n",
       "</table>\n",
       "</div>"
      ],
      "text/plain": [
       "   withdrawal_id  account_id       london_value_date currency       amount  \\\n",
       "0         322990       14669 2025-01-20 10:39:55.563      EUR  38350.52769   \n",
       "1         336346       14669 2025-03-12 11:33:08.160      EUR  69586.48576   \n",
       "2         341195       14669 2025-03-31 10:43:18.706      EUR  19826.49636   \n",
       "3         353143       14669 2025-05-15 11:03:38.765      EUR  93023.91229   \n",
       "4         364051       14669 2025-06-24 12:52:33.569      EUR  52467.08225   \n",
       "\n",
       "   normalised_amount beneficiary_bank_country beneficiary_name  \\\n",
       "0        32472.31098                       LT    Beneficiary 3   \n",
       "1        58590.74496                       LT    Beneficiary 3   \n",
       "2        16588.23448                       LT    Beneficiary 3   \n",
       "3        78425.84394                       LT    Beneficiary 3   \n",
       "4        44729.86980                       LT    Beneficiary 3   \n",
       "\n",
       "   withdrawal_fee_normalised beneficiary_name_standardised  \n",
       "0                 205.987547                 Beneficiary 3  \n",
       "1                 205.901522                 Beneficiary 3  \n",
       "2                 206.605492                 Beneficiary 3  \n",
       "3                 206.124907                 Beneficiary 3  \n",
       "4                 206.434820                 Beneficiary 3  "
      ]
     },
     "execution_count": 56,
     "metadata": {},
     "output_type": "execute_result"
    }
   ],
   "source": [
    "# Withdrawals (Beneficiaries)\n",
    "withdrawals_std = standardise_counterparty_names(withdrawals_df, col='beneficiary_name') # withdrawals table with standardise_counterparty_names\n",
    "withdrawals_std.head()"
   ]
  },
  {
   "cell_type": "code",
   "execution_count": 57,
   "id": "c0e01dae-9ce6-43c1-9689-de2fe59a168e",
   "metadata": {},
   "outputs": [
    {
     "data": {
      "text/html": [
       "<div>\n",
       "<style scoped>\n",
       "    .dataframe tbody tr th:only-of-type {\n",
       "        vertical-align: middle;\n",
       "    }\n",
       "\n",
       "    .dataframe tbody tr th {\n",
       "        vertical-align: top;\n",
       "    }\n",
       "\n",
       "    .dataframe thead th {\n",
       "        text-align: right;\n",
       "    }\n",
       "</style>\n",
       "<table border=\"1\" class=\"dataframe\">\n",
       "  <thead>\n",
       "    <tr style=\"text-align: right;\">\n",
       "      <th></th>\n",
       "      <th>entity</th>\n",
       "      <th>amount</th>\n",
       "    </tr>\n",
       "  </thead>\n",
       "  <tbody>\n",
       "    <tr>\n",
       "      <th>0</th>\n",
       "      <td>Bitstamp Europe S A</td>\n",
       "      <td>5.595569e+08</td>\n",
       "    </tr>\n",
       "    <tr>\n",
       "      <th>1</th>\n",
       "      <td>Kraken Europe Ltd</td>\n",
       "      <td>3.215426e+08</td>\n",
       "    </tr>\n",
       "    <tr>\n",
       "      <th>2</th>\n",
       "      <td>Beneficiary 3</td>\n",
       "      <td>2.917175e+08</td>\n",
       "    </tr>\n",
       "    <tr>\n",
       "      <th>3</th>\n",
       "      <td>Coinbase Europe Ltd</td>\n",
       "      <td>1.648157e+08</td>\n",
       "    </tr>\n",
       "    <tr>\n",
       "      <th>4</th>\n",
       "      <td>Pax Os Eu</td>\n",
       "      <td>9.606582e+07</td>\n",
       "    </tr>\n",
       "    <tr>\n",
       "      <th>5</th>\n",
       "      <td>Company 3</td>\n",
       "      <td>7.700072e+07</td>\n",
       "    </tr>\n",
       "    <tr>\n",
       "      <th>6</th>\n",
       "      <td>Bit Stamp Lux</td>\n",
       "      <td>7.415377e+07</td>\n",
       "    </tr>\n",
       "    <tr>\n",
       "      <th>7</th>\n",
       "      <td>Bitpanda Gmbh</td>\n",
       "      <td>7.037467e+07</td>\n",
       "    </tr>\n",
       "    <tr>\n",
       "      <th>8</th>\n",
       "      <td>Paxos Europe Ltd</td>\n",
       "      <td>5.961942e+07</td>\n",
       "    </tr>\n",
       "    <tr>\n",
       "      <th>9</th>\n",
       "      <td>Kraken Fin De</td>\n",
       "      <td>5.225063e+07</td>\n",
       "    </tr>\n",
       "  </tbody>\n",
       "</table>\n",
       "</div>"
      ],
      "text/plain": [
       "                entity        amount\n",
       "0  Bitstamp Europe S A  5.595569e+08\n",
       "1    Kraken Europe Ltd  3.215426e+08\n",
       "2        Beneficiary 3  2.917175e+08\n",
       "3  Coinbase Europe Ltd  1.648157e+08\n",
       "4            Pax Os Eu  9.606582e+07\n",
       "5            Company 3  7.700072e+07\n",
       "6        Bit Stamp Lux  7.415377e+07\n",
       "7        Bitpanda Gmbh  7.037467e+07\n",
       "8     Paxos Europe Ltd  5.961942e+07\n",
       "9        Kraken Fin De  5.225063e+07"
      ]
     },
     "execution_count": 57,
     "metadata": {},
     "output_type": "execute_result"
    }
   ],
   "source": [
    "beneficiary_flows = aggregate_flows(withdrawals_std, entity_col=\"beneficiary_name_standardised\",amount_col=\"normalised_amount\")\n",
    "beneficiary_flows.head(10)"
   ]
  },
  {
   "cell_type": "code",
   "execution_count": 58,
   "id": "a6b36472",
   "metadata": {},
   "outputs": [
    {
     "data": {
      "text/plain": [
       "<Figure size 640x480 with 0 Axes>"
      ]
     },
     "metadata": {},
     "output_type": "display_data"
    },
    {
     "data": {
      "image/png": "[encoded data removed]",
      "text/plain": [
       "<Figure size 640x480 with 1 Axes>"
      ]
     },
     "metadata": {},
     "output_type": "display_data"
    },
    {
     "data": {
      "text/plain": [
       "<Figure size 640x480 with 0 Axes>"
      ]
     },
     "metadata": {},
     "output_type": "display_data"
    },
    {
     "data": {
      "image/png": "[encoded data removed]",
      "text/plain": [
       "<Figure size 640x480 with 1 Axes>"
      ]
     },
     "metadata": {},
     "output_type": "display_data"
    }
   ],
   "source": [
    "bar_top_series(remitter_flows, 'entity', 'amount', 15, title='Top remitters by consolidated flow')\n",
    "plt.show()\n",
    "bar_top_series(beneficiary_flows, 'entity', 'amount', 15, title='Top beneficiaries by consolidated flow')\n",
    "plt.show()"
   ]
  },
  {
   "cell_type": "markdown",
   "id": "d4818323",
   "metadata": {},
   "source": [
    "### Notes\n",
    "- *Hubs* are clients with high in- and out-degree; *Brokers* show asymmetry; *Peripheral Members* have minimal connections.\n",
    "- Fuzzy grouping uses character-level normalization + SequenceMatcher with a high threshold (0.9) to be conservative."
   ]
  }
 ],
 "metadata": {
  "kernelspec": {
   "display_name": "Python 3 (ipykernel)",
   "language": "python",
   "name": "python3"
  },
  "language_info": {
   "codemirror_mode": {
    "name": "ipython",
    "version": 3
   },
   "file_extension": ".py",
   "mimetype": "text/x-python",
   "name": "python",
   "nbconvert_exporter": "python",
   "pygments_lexer": "ipython3",
   "version": "3.13.6"
  }
 },
 "nbformat": 4,
 "nbformat_minor": 5
}
